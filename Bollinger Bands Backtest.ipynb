{
 "cells": [
  {
   "cell_type": "code",
   "execution_count": 1,
   "metadata": {
    "collapsed": true
   },
   "outputs": [],
   "source": [
    "import pandas as pd\n",
    "from sells_view import plot_results"
   ]
  },
  {
   "cell_type": "code",
   "execution_count": 2,
   "outputs": [],
   "source": [
    "df = pd.read_csv(\"BTC_ETH_LTC_Mar0522_Mar1022.csv\")"
   ],
   "metadata": {
    "collapsed": false,
    "pycharm": {
     "name": "#%%\n"
    }
   }
  },
  {
   "cell_type": "code",
   "execution_count": 3,
   "outputs": [
    {
     "data": {
      "text/plain": "              OpenTime  ADA-USD_Open  ADA-USD_High  ADA-USD_Low  \\\n0  2022-01-25 14:00:00         1.035         1.042        1.022   \n1  2022-01-25 15:00:00         1.031         1.040        1.013   \n2  2022-01-25 16:00:00         1.030         1.033        1.020   \n3  2022-01-25 17:00:00         1.031         1.053        1.017   \n4  2022-01-25 18:00:00         1.020         1.039        1.003   \n\n   ADA-USD_Close  ADA-USD_volume                CloseTime  \\\n0          1.030       8240060.4  2022-01-25 14:59:59.999   \n1          1.029      11912749.4  2022-01-25 15:59:59.999   \n2          1.031       6338242.5  2022-01-25 16:59:59.999   \n3          1.019      16720492.1  2022-01-25 17:59:59.999   \n4          1.028      16961424.2  2022-01-25 18:59:59.999   \n\n   ADA-QuoteAssetVolume  ADA-NumberOfTrades  ADA-TBBAV  ...  BTC-USD_Open  \\\n0          8.504572e+06             15557.0  4266813.6  ...      36430.38   \n1          1.223172e+07             22446.0  5954033.6  ...      36406.00   \n2          6.504304e+06             11686.0  3245062.4  ...      36519.12   \n3          1.732742e+07             32455.0  8297087.4  ...      36497.39   \n4          1.733301e+07             28019.0  8411770.5  ...      36299.99   \n\n   BTC-USD_High  BTC-USD_Low  BTC-USD_Close  BTC-USD_volume  \\\n0      36600.44     36227.52       36406.00      1671.86116   \n1      36777.77     36201.68       36519.13      2239.52587   \n2      36579.99     36259.10       36498.00      2008.17575   \n3      37149.42     36252.00       36299.99      5493.26524   \n4      36780.00     35967.33       36530.00      3943.20294   \n\n   BTC-QuoteAssetVolume  BTC-NumberOfTrades   BTC-TBBAV     BTC-TBQAV  \\\n0          6.086462e+07             49973.0   829.37520  3.019401e+07   \n1          8.170238e+07             58332.0  1203.30230  4.390835e+07   \n2          7.311807e+07             63309.0  1000.52554  3.642950e+07   \n3          2.014882e+08            130139.0  2888.12575  1.059381e+08   \n4          1.434593e+08             86662.0  1954.36935  7.109640e+07   \n\n   BTC-ignore  \n0         0.0  \n1         0.0  \n2         0.0  \n3         0.0  \n4         0.0  \n\n[5 rows x 52 columns]",
      "text/html": "<div>\n<style scoped>\n    .dataframe tbody tr th:only-of-type {\n        vertical-align: middle;\n    }\n\n    .dataframe tbody tr th {\n        vertical-align: top;\n    }\n\n    .dataframe thead th {\n        text-align: right;\n    }\n</style>\n<table border=\"1\" class=\"dataframe\">\n  <thead>\n    <tr style=\"text-align: right;\">\n      <th></th>\n      <th>OpenTime</th>\n      <th>ADA-USD_Open</th>\n      <th>ADA-USD_High</th>\n      <th>ADA-USD_Low</th>\n      <th>ADA-USD_Close</th>\n      <th>ADA-USD_volume</th>\n      <th>CloseTime</th>\n      <th>ADA-QuoteAssetVolume</th>\n      <th>ADA-NumberOfTrades</th>\n      <th>ADA-TBBAV</th>\n      <th>...</th>\n      <th>BTC-USD_Open</th>\n      <th>BTC-USD_High</th>\n      <th>BTC-USD_Low</th>\n      <th>BTC-USD_Close</th>\n      <th>BTC-USD_volume</th>\n      <th>BTC-QuoteAssetVolume</th>\n      <th>BTC-NumberOfTrades</th>\n      <th>BTC-TBBAV</th>\n      <th>BTC-TBQAV</th>\n      <th>BTC-ignore</th>\n    </tr>\n  </thead>\n  <tbody>\n    <tr>\n      <th>0</th>\n      <td>2022-01-25 14:00:00</td>\n      <td>1.035</td>\n      <td>1.042</td>\n      <td>1.022</td>\n      <td>1.030</td>\n      <td>8240060.4</td>\n      <td>2022-01-25 14:59:59.999</td>\n      <td>8.504572e+06</td>\n      <td>15557.0</td>\n      <td>4266813.6</td>\n      <td>...</td>\n      <td>36430.38</td>\n      <td>36600.44</td>\n      <td>36227.52</td>\n      <td>36406.00</td>\n      <td>1671.86116</td>\n      <td>6.086462e+07</td>\n      <td>49973.0</td>\n      <td>829.37520</td>\n      <td>3.019401e+07</td>\n      <td>0.0</td>\n    </tr>\n    <tr>\n      <th>1</th>\n      <td>2022-01-25 15:00:00</td>\n      <td>1.031</td>\n      <td>1.040</td>\n      <td>1.013</td>\n      <td>1.029</td>\n      <td>11912749.4</td>\n      <td>2022-01-25 15:59:59.999</td>\n      <td>1.223172e+07</td>\n      <td>22446.0</td>\n      <td>5954033.6</td>\n      <td>...</td>\n      <td>36406.00</td>\n      <td>36777.77</td>\n      <td>36201.68</td>\n      <td>36519.13</td>\n      <td>2239.52587</td>\n      <td>8.170238e+07</td>\n      <td>58332.0</td>\n      <td>1203.30230</td>\n      <td>4.390835e+07</td>\n      <td>0.0</td>\n    </tr>\n    <tr>\n      <th>2</th>\n      <td>2022-01-25 16:00:00</td>\n      <td>1.030</td>\n      <td>1.033</td>\n      <td>1.020</td>\n      <td>1.031</td>\n      <td>6338242.5</td>\n      <td>2022-01-25 16:59:59.999</td>\n      <td>6.504304e+06</td>\n      <td>11686.0</td>\n      <td>3245062.4</td>\n      <td>...</td>\n      <td>36519.12</td>\n      <td>36579.99</td>\n      <td>36259.10</td>\n      <td>36498.00</td>\n      <td>2008.17575</td>\n      <td>7.311807e+07</td>\n      <td>63309.0</td>\n      <td>1000.52554</td>\n      <td>3.642950e+07</td>\n      <td>0.0</td>\n    </tr>\n    <tr>\n      <th>3</th>\n      <td>2022-01-25 17:00:00</td>\n      <td>1.031</td>\n      <td>1.053</td>\n      <td>1.017</td>\n      <td>1.019</td>\n      <td>16720492.1</td>\n      <td>2022-01-25 17:59:59.999</td>\n      <td>1.732742e+07</td>\n      <td>32455.0</td>\n      <td>8297087.4</td>\n      <td>...</td>\n      <td>36497.39</td>\n      <td>37149.42</td>\n      <td>36252.00</td>\n      <td>36299.99</td>\n      <td>5493.26524</td>\n      <td>2.014882e+08</td>\n      <td>130139.0</td>\n      <td>2888.12575</td>\n      <td>1.059381e+08</td>\n      <td>0.0</td>\n    </tr>\n    <tr>\n      <th>4</th>\n      <td>2022-01-25 18:00:00</td>\n      <td>1.020</td>\n      <td>1.039</td>\n      <td>1.003</td>\n      <td>1.028</td>\n      <td>16961424.2</td>\n      <td>2022-01-25 18:59:59.999</td>\n      <td>1.733301e+07</td>\n      <td>28019.0</td>\n      <td>8411770.5</td>\n      <td>...</td>\n      <td>36299.99</td>\n      <td>36780.00</td>\n      <td>35967.33</td>\n      <td>36530.00</td>\n      <td>3943.20294</td>\n      <td>1.434593e+08</td>\n      <td>86662.0</td>\n      <td>1954.36935</td>\n      <td>7.109640e+07</td>\n      <td>0.0</td>\n    </tr>\n  </tbody>\n</table>\n<p>5 rows × 52 columns</p>\n</div>"
     },
     "execution_count": 3,
     "metadata": {},
     "output_type": "execute_result"
    }
   ],
   "source": [
    "df.head()"
   ],
   "metadata": {
    "collapsed": false,
    "pycharm": {
     "name": "#%%\n"
    }
   }
  },
  {
   "cell_type": "code",
   "execution_count": 4,
   "outputs": [],
   "source": [
    "def sma(data, window):\n",
    "    return(data.rolling(window = window).mean())\n",
    "\n",
    "def bollinger_band(data, sma, window, nstd):\n",
    "    std = data.rolling(window = window).std()\n",
    "    upper_band = sma + std * nstd\n",
    "    lower_band = sma - std * nstd\n",
    "    return upper_band, lower_band"
   ],
   "metadata": {
    "collapsed": false,
    "pycharm": {
     "name": "#%%\n"
    }
   }
  },
  {
   "cell_type": "code",
   "execution_count": 5,
   "outputs": [],
   "source": [
    "symbols = ['BTC', 'ETH', 'LTC', 'ANC', 'ADA']"
   ],
   "metadata": {
    "collapsed": false,
    "pycharm": {
     "name": "#%%\n"
    }
   }
  },
  {
   "cell_type": "code",
   "execution_count": 6,
   "outputs": [],
   "source": [
    "nstd = 3\n",
    "\n",
    "for symbol in symbols:\n",
    "    df[f'{symbol}_sma'] = sma(df[f'{symbol}-USD_Open'], 20)\n",
    "    df[f'{symbol}_upper_band'], df[f'{symbol}_lower_band'] = bollinger_band(df[f'{symbol}-USD_Open'], df[f'{symbol}_sma'], 20, nstd)"
   ],
   "metadata": {
    "collapsed": false,
    "pycharm": {
     "name": "#%%\n"
    }
   }
  },
  {
   "cell_type": "code",
   "execution_count": 7,
   "outputs": [],
   "source": [
    "df.dropna(inplace=True)"
   ],
   "metadata": {
    "collapsed": false,
    "pycharm": {
     "name": "#%%\n"
    }
   }
  },
  {
   "cell_type": "code",
   "execution_count": 8,
   "outputs": [
    {
     "data": {
      "text/plain": "      LTC-USD_Open  ETH-USD_Open  BTC-USD_Open\n19           109.6       2475.97      37600.01\n20           108.4       2451.31      37288.56\n21           108.5       2461.17      37338.60\n22           108.9       2487.64      37591.42\n23           109.2       2489.40      37650.01\n...            ...           ...           ...\n1521         129.5       3429.65      47701.49\n1522         129.0       3397.53      47477.85\n1523         129.0       3375.40      47270.19\n1524         129.2       3386.28      47331.13\n1525         130.0       3400.51      47434.79\n\n[1507 rows x 3 columns]",
      "text/html": "<div>\n<style scoped>\n    .dataframe tbody tr th:only-of-type {\n        vertical-align: middle;\n    }\n\n    .dataframe tbody tr th {\n        vertical-align: top;\n    }\n\n    .dataframe thead th {\n        text-align: right;\n    }\n</style>\n<table border=\"1\" class=\"dataframe\">\n  <thead>\n    <tr style=\"text-align: right;\">\n      <th></th>\n      <th>LTC-USD_Open</th>\n      <th>ETH-USD_Open</th>\n      <th>BTC-USD_Open</th>\n    </tr>\n  </thead>\n  <tbody>\n    <tr>\n      <th>19</th>\n      <td>109.6</td>\n      <td>2475.97</td>\n      <td>37600.01</td>\n    </tr>\n    <tr>\n      <th>20</th>\n      <td>108.4</td>\n      <td>2451.31</td>\n      <td>37288.56</td>\n    </tr>\n    <tr>\n      <th>21</th>\n      <td>108.5</td>\n      <td>2461.17</td>\n      <td>37338.60</td>\n    </tr>\n    <tr>\n      <th>22</th>\n      <td>108.9</td>\n      <td>2487.64</td>\n      <td>37591.42</td>\n    </tr>\n    <tr>\n      <th>23</th>\n      <td>109.2</td>\n      <td>2489.40</td>\n      <td>37650.01</td>\n    </tr>\n    <tr>\n      <th>...</th>\n      <td>...</td>\n      <td>...</td>\n      <td>...</td>\n    </tr>\n    <tr>\n      <th>1521</th>\n      <td>129.5</td>\n      <td>3429.65</td>\n      <td>47701.49</td>\n    </tr>\n    <tr>\n      <th>1522</th>\n      <td>129.0</td>\n      <td>3397.53</td>\n      <td>47477.85</td>\n    </tr>\n    <tr>\n      <th>1523</th>\n      <td>129.0</td>\n      <td>3375.40</td>\n      <td>47270.19</td>\n    </tr>\n    <tr>\n      <th>1524</th>\n      <td>129.2</td>\n      <td>3386.28</td>\n      <td>47331.13</td>\n    </tr>\n    <tr>\n      <th>1525</th>\n      <td>130.0</td>\n      <td>3400.51</td>\n      <td>47434.79</td>\n    </tr>\n  </tbody>\n</table>\n<p>1507 rows × 3 columns</p>\n</div>"
     },
     "execution_count": 8,
     "metadata": {},
     "output_type": "execute_result"
    }
   ],
   "source": [
    "df[['LTC-USD_Open', 'ETH-USD_Open', 'BTC-USD_Open']]"
   ],
   "metadata": {
    "collapsed": false,
    "pycharm": {
     "name": "#%%\n"
    }
   }
  },
  {
   "cell_type": "code",
   "execution_count": 9,
   "outputs": [],
   "source": [
    "class TradingEnv:\n",
    "    def __init__(self, balance_amount, balance_unit, trading_fee_mulpiplier):\n",
    "        self.balance_amount = balance_amount\n",
    "        self.balance_unit = balance_unit\n",
    "        self.buys = []\n",
    "        self.sells = []\n",
    "        self.trading_fee_multiplier = trading_fee_mulpiplier\n",
    "\n",
    "    def buy(self, symbol, buy_price, time):\n",
    "        self.balance_amount = (self.balance_amount/buy_price) * self.trading_fee_multiplier\n",
    "        self.balance_unit = symbol\n",
    "        self.buys.append([symbol, time, buy_price])\n",
    "\n",
    "    def sell(self, sell_price, time):\n",
    "        self.balance_amount = self.balance_amount * sell_price * self.trading_fee_multiplier\n",
    "        self.sells.append([self.balance_unit, time, sell_price])\n",
    "        self.balance_unit = 'USDT'\n"
   ],
   "metadata": {
    "collapsed": false,
    "pycharm": {
     "name": "#%%\n"
    }
   }
  },
  {
   "cell_type": "code",
   "execution_count": 10,
   "outputs": [],
   "source": [
    "env = TradingEnv(balance_amount=100,balance_unit='USDT', trading_fee_mulpiplier=0.999)"
   ],
   "metadata": {
    "collapsed": false,
    "pycharm": {
     "name": "#%%\n"
    }
   }
  },
  {
   "cell_type": "code",
   "execution_count": 11,
   "outputs": [],
   "source": [
    "for i in range(len(df)):\n",
    "    if env.balance_unit == 'USDT':\n",
    "        for symbol in symbols:\n",
    "            if df[f'{symbol}-USD_Low'].iloc[i] < df[f'{symbol}_lower_band'].iloc[i]:\n",
    "                env.buy(symbol, df[f'{symbol}_lower_band'].iloc[i], df['OpenTime'].iloc[i])\n",
    "                break\n",
    "    if env.balance_unit != 'USDT':\n",
    "        if df[f'{env.balance_unit}-USD_High'].iloc[i] > df[f'{env.balance_unit}_upper_band'].iloc[i]:\n",
    "                env.sell(df[f'{env.balance_unit}_upper_band'].iloc[i],df['OpenTime'].iloc[i])\n",
    "if env.balance_unit != 'USDT':\n",
    "    env.sell(df[f'{env.balance_unit}-USD_Close'].iloc[-1], df['OpenTime'].iloc[-1])"
   ],
   "metadata": {
    "collapsed": false,
    "pycharm": {
     "name": "#%%\n"
    }
   }
  },
  {
   "cell_type": "code",
   "execution_count": 12,
   "outputs": [
    {
     "name": "stdout",
     "output_type": "stream",
     "text": [
      "num buys: 22\n",
      "num sells: 22\n",
      "ending balance: 71.61068480179055 USDT\n"
     ]
    }
   ],
   "source": [
    "print(f'num buys: {len(env.buys)}')\n",
    "print(f'num sells: {len(env.sells)}')\n",
    "print(f'ending balance: {env.balance_amount} {env.balance_unit}')"
   ],
   "metadata": {
    "collapsed": false,
    "pycharm": {
     "name": "#%%\n"
    }
   }
  },
  {
   "cell_type": "code",
   "execution_count": 13,
   "outputs": [
    {
     "data": {
      "text/plain": "[(['BTC', '2022-01-27 00:00:00', 36343.18957629574],\n  ['BTC', '2022-01-28 23:00:00', 37787.03604678621]),\n (['BTC', '2022-01-29 19:00:00', 37325.14989070897],\n  ['BTC', '2022-01-29 23:00:00', 38175.3010220776]),\n (['BTC', '2022-01-30 22:00:00', 37603.5501828559],\n  ['BTC', '2022-01-31 19:00:00', 38284.07723826924]),\n (['ANC', '2022-02-02 06:00:00', 1.5294150252491245],\n  ['ANC', '2022-02-04 09:00:00', 1.3591499552772488]),\n (['BTC', '2022-02-06 17:00:00', 41320.39339365895],\n  ['BTC', '2022-02-06 17:00:00', 41819.900606341056]),\n (['BTC', '2022-02-06 18:00:00', 41258.287950248385],\n  ['BTC', '2022-02-07 02:00:00', 41863.289450185446]),\n (['BTC', '2022-02-08 15:00:00', 43156.11063984816],\n  ['BTC', '2022-02-09 22:00:00', 44699.37306047699]),\n (['ETH', '2022-02-10 16:00:00', 3126.9657728317393],\n  ['ETH', '2022-02-14 15:00:00', 2922.5039777748066]),\n (['BTC', '2022-02-16 07:00:00', 43694.4779374992],\n  ['BTC', '2022-02-21 04:00:00', 39360.0066948592]),\n (['BTC', '2022-02-21 14:00:00', 37524.569528203494],\n  ['BTC', '2022-02-23 11:00:00', 38468.96712359803]),\n (['ADA', '2022-02-24 02:00:00', 0.868571776730124],\n  ['ADA', '2022-02-24 23:00:00', 0.8968202394500844]),\n (['LTC', '2022-02-26 21:00:00', 106.83712380147969],\n  ['LTC', '2022-02-28 17:00:00', 106.01780677013281]),\n (['ADA', '2022-03-02 03:00:00', 0.9450054982804403],\n  ['ADA', '2022-03-09 06:00:00', 0.8248586605440977]),\n (['BTC', '2022-03-10 04:00:00', 41264.71514483275],\n  ['BTC', '2022-03-11 14:00:00', 40082.50953166708]),\n (['ANC', '2022-03-11 19:00:00', 3.4928581636236187],\n  ['ANC', '2022-03-16 21:00:00', 3.022782098438765]),\n (['ADA', '2022-03-17 23:00:00', 0.8273528710636135],\n  ['ADA', '2022-03-18 18:00:00', 0.8443464907714204]),\n (['ETH', '2022-03-20 01:00:00', 2911.7038701328697],\n  ['ETH', '2022-03-21 12:00:00', 2910.6950113493194]),\n (['ANC', '2022-03-22 02:00:00', 2.533356403027503],\n  ['ANC', '2022-03-22 09:00:00', 2.6494784312793223]),\n (['ETH', '2022-03-23 02:00:00', 2972.6013967048016],\n  ['ETH', '2022-03-23 18:00:00', 3034.1732234418073]),\n (['ANC', '2022-03-23 19:00:00', 2.5680561926577523],\n  ['ANC', '2022-03-25 17:00:00', 2.5984398104811253]),\n (['LTC', '2022-03-25 18:00:00', 124.55231362318858],\n  ['LTC', '2022-03-27 23:00:00', 127.53463661867524]),\n (['LTC', '2022-03-29 00:00:00', 129.15636534146995],\n  ['LTC', '2022-03-30 03:00:00', 129.0])]"
     },
     "execution_count": 13,
     "metadata": {},
     "output_type": "execute_result"
    }
   ],
   "source": [
    "list(zip(env.buys, env.sells))"
   ],
   "metadata": {
    "collapsed": false,
    "pycharm": {
     "name": "#%%\n"
    }
   }
  },
  {
   "cell_type": "code",
   "execution_count": 14,
   "outputs": [
    {
     "ename": "KeyError",
     "evalue": "'BTC_sma-25'",
     "output_type": "error",
     "traceback": [
      "\u001B[1;31m---------------------------------------------------------------------------\u001B[0m",
      "\u001B[1;31mKeyError\u001B[0m                                  Traceback (most recent call last)",
      "\u001B[1;32m~\\.conda\\envs\\pythonProject\\lib\\site-packages\\pandas\\core\\indexes\\base.py\u001B[0m in \u001B[0;36mget_loc\u001B[1;34m(self, key, method, tolerance)\u001B[0m\n\u001B[0;32m   3620\u001B[0m             \u001B[1;32mtry\u001B[0m\u001B[1;33m:\u001B[0m\u001B[1;33m\u001B[0m\u001B[1;33m\u001B[0m\u001B[0m\n\u001B[1;32m-> 3621\u001B[1;33m                 \u001B[1;32mreturn\u001B[0m \u001B[0mself\u001B[0m\u001B[1;33m.\u001B[0m\u001B[0m_engine\u001B[0m\u001B[1;33m.\u001B[0m\u001B[0mget_loc\u001B[0m\u001B[1;33m(\u001B[0m\u001B[0mcasted_key\u001B[0m\u001B[1;33m)\u001B[0m\u001B[1;33m\u001B[0m\u001B[1;33m\u001B[0m\u001B[0m\n\u001B[0m\u001B[0;32m   3622\u001B[0m             \u001B[1;32mexcept\u001B[0m \u001B[0mKeyError\u001B[0m \u001B[1;32mas\u001B[0m \u001B[0merr\u001B[0m\u001B[1;33m:\u001B[0m\u001B[1;33m\u001B[0m\u001B[1;33m\u001B[0m\u001B[0m\n",
      "\u001B[1;32m~\\.conda\\envs\\pythonProject\\lib\\site-packages\\pandas\\_libs\\index.pyx\u001B[0m in \u001B[0;36mpandas._libs.index.IndexEngine.get_loc\u001B[1;34m()\u001B[0m\n",
      "\u001B[1;32m~\\.conda\\envs\\pythonProject\\lib\\site-packages\\pandas\\_libs\\index.pyx\u001B[0m in \u001B[0;36mpandas._libs.index.IndexEngine.get_loc\u001B[1;34m()\u001B[0m\n",
      "\u001B[1;32mpandas\\_libs\\hashtable_class_helper.pxi\u001B[0m in \u001B[0;36mpandas._libs.hashtable.PyObjectHashTable.get_item\u001B[1;34m()\u001B[0m\n",
      "\u001B[1;32mpandas\\_libs\\hashtable_class_helper.pxi\u001B[0m in \u001B[0;36mpandas._libs.hashtable.PyObjectHashTable.get_item\u001B[1;34m()\u001B[0m\n",
      "\u001B[1;31mKeyError\u001B[0m: 'BTC_sma-25'",
      "\nThe above exception was the direct cause of the following exception:\n",
      "\u001B[1;31mKeyError\u001B[0m                                  Traceback (most recent call last)",
      "\u001B[1;32m~\\AppData\\Local\\Temp/ipykernel_17472/4140883202.py\u001B[0m in \u001B[0;36m<module>\u001B[1;34m\u001B[0m\n\u001B[1;32m----> 1\u001B[1;33m \u001B[0mplot_results\u001B[0m\u001B[1;33m(\u001B[0m\u001B[0mdf\u001B[0m\u001B[1;33m,\u001B[0m \u001B[1;34m'BTC'\u001B[0m\u001B[1;33m,\u001B[0m \u001B[0menv\u001B[0m\u001B[1;33m.\u001B[0m\u001B[0mbuys\u001B[0m\u001B[1;33m,\u001B[0m \u001B[0menv\u001B[0m\u001B[1;33m.\u001B[0m\u001B[0msells\u001B[0m\u001B[1;33m)\u001B[0m\u001B[1;33m\u001B[0m\u001B[1;33m\u001B[0m\u001B[0m\n\u001B[0m",
      "\u001B[1;32m~\\PycharmProjects\\pythonProject\\sells_view.py\u001B[0m in \u001B[0;36mplot_results\u001B[1;34m(plot_df, symbol, buys, sells)\u001B[0m\n\u001B[0;32m     69\u001B[0m \u001B[1;33m\u001B[0m\u001B[0m\n\u001B[0;32m     70\u001B[0m     fig.add_trace(go.Scatter(x=plot_df['OpenTime'],\n\u001B[1;32m---> 71\u001B[1;33m                              \u001B[0my\u001B[0m\u001B[1;33m=\u001B[0m\u001B[0mplot_df\u001B[0m\u001B[1;33m[\u001B[0m\u001B[1;34mf'{symbol}_sma-25'\u001B[0m\u001B[1;33m]\u001B[0m\u001B[1;33m,\u001B[0m\u001B[1;33m\u001B[0m\u001B[1;33m\u001B[0m\u001B[0m\n\u001B[0m\u001B[0;32m     72\u001B[0m                              \u001B[0mtype\u001B[0m\u001B[1;33m=\u001B[0m\u001B[1;34m'scatter'\u001B[0m\u001B[1;33m,\u001B[0m\u001B[1;33m\u001B[0m\u001B[1;33m\u001B[0m\u001B[0m\n\u001B[0;32m     73\u001B[0m                              \u001B[0mmode\u001B[0m\u001B[1;33m=\u001B[0m\u001B[1;34m'lines'\u001B[0m\u001B[1;33m,\u001B[0m\u001B[1;33m\u001B[0m\u001B[1;33m\u001B[0m\u001B[0m\n",
      "\u001B[1;32m~\\.conda\\envs\\pythonProject\\lib\\site-packages\\pandas\\core\\frame.py\u001B[0m in \u001B[0;36m__getitem__\u001B[1;34m(self, key)\u001B[0m\n\u001B[0;32m   3503\u001B[0m             \u001B[1;32mif\u001B[0m \u001B[0mself\u001B[0m\u001B[1;33m.\u001B[0m\u001B[0mcolumns\u001B[0m\u001B[1;33m.\u001B[0m\u001B[0mnlevels\u001B[0m \u001B[1;33m>\u001B[0m \u001B[1;36m1\u001B[0m\u001B[1;33m:\u001B[0m\u001B[1;33m\u001B[0m\u001B[1;33m\u001B[0m\u001B[0m\n\u001B[0;32m   3504\u001B[0m                 \u001B[1;32mreturn\u001B[0m \u001B[0mself\u001B[0m\u001B[1;33m.\u001B[0m\u001B[0m_getitem_multilevel\u001B[0m\u001B[1;33m(\u001B[0m\u001B[0mkey\u001B[0m\u001B[1;33m)\u001B[0m\u001B[1;33m\u001B[0m\u001B[1;33m\u001B[0m\u001B[0m\n\u001B[1;32m-> 3505\u001B[1;33m             \u001B[0mindexer\u001B[0m \u001B[1;33m=\u001B[0m \u001B[0mself\u001B[0m\u001B[1;33m.\u001B[0m\u001B[0mcolumns\u001B[0m\u001B[1;33m.\u001B[0m\u001B[0mget_loc\u001B[0m\u001B[1;33m(\u001B[0m\u001B[0mkey\u001B[0m\u001B[1;33m)\u001B[0m\u001B[1;33m\u001B[0m\u001B[1;33m\u001B[0m\u001B[0m\n\u001B[0m\u001B[0;32m   3506\u001B[0m             \u001B[1;32mif\u001B[0m \u001B[0mis_integer\u001B[0m\u001B[1;33m(\u001B[0m\u001B[0mindexer\u001B[0m\u001B[1;33m)\u001B[0m\u001B[1;33m:\u001B[0m\u001B[1;33m\u001B[0m\u001B[1;33m\u001B[0m\u001B[0m\n\u001B[0;32m   3507\u001B[0m                 \u001B[0mindexer\u001B[0m \u001B[1;33m=\u001B[0m \u001B[1;33m[\u001B[0m\u001B[0mindexer\u001B[0m\u001B[1;33m]\u001B[0m\u001B[1;33m\u001B[0m\u001B[1;33m\u001B[0m\u001B[0m\n",
      "\u001B[1;32m~\\.conda\\envs\\pythonProject\\lib\\site-packages\\pandas\\core\\indexes\\base.py\u001B[0m in \u001B[0;36mget_loc\u001B[1;34m(self, key, method, tolerance)\u001B[0m\n\u001B[0;32m   3621\u001B[0m                 \u001B[1;32mreturn\u001B[0m \u001B[0mself\u001B[0m\u001B[1;33m.\u001B[0m\u001B[0m_engine\u001B[0m\u001B[1;33m.\u001B[0m\u001B[0mget_loc\u001B[0m\u001B[1;33m(\u001B[0m\u001B[0mcasted_key\u001B[0m\u001B[1;33m)\u001B[0m\u001B[1;33m\u001B[0m\u001B[1;33m\u001B[0m\u001B[0m\n\u001B[0;32m   3622\u001B[0m             \u001B[1;32mexcept\u001B[0m \u001B[0mKeyError\u001B[0m \u001B[1;32mas\u001B[0m \u001B[0merr\u001B[0m\u001B[1;33m:\u001B[0m\u001B[1;33m\u001B[0m\u001B[1;33m\u001B[0m\u001B[0m\n\u001B[1;32m-> 3623\u001B[1;33m                 \u001B[1;32mraise\u001B[0m \u001B[0mKeyError\u001B[0m\u001B[1;33m(\u001B[0m\u001B[0mkey\u001B[0m\u001B[1;33m)\u001B[0m \u001B[1;32mfrom\u001B[0m \u001B[0merr\u001B[0m\u001B[1;33m\u001B[0m\u001B[1;33m\u001B[0m\u001B[0m\n\u001B[0m\u001B[0;32m   3624\u001B[0m             \u001B[1;32mexcept\u001B[0m \u001B[0mTypeError\u001B[0m\u001B[1;33m:\u001B[0m\u001B[1;33m\u001B[0m\u001B[1;33m\u001B[0m\u001B[0m\n\u001B[0;32m   3625\u001B[0m                 \u001B[1;31m# If we have a listlike key, _check_indexing_error will raise\u001B[0m\u001B[1;33m\u001B[0m\u001B[1;33m\u001B[0m\u001B[0m\n",
      "\u001B[1;31mKeyError\u001B[0m: 'BTC_sma-25'"
     ]
    }
   ],
   "source": [
    "plot_results(df, 'BTC', env.buys, env.sells)"
   ],
   "metadata": {
    "collapsed": false,
    "pycharm": {
     "name": "#%%\n"
    }
   }
  },
  {
   "cell_type": "code",
   "execution_count": null,
   "outputs": [],
   "source": [],
   "metadata": {
    "collapsed": false,
    "pycharm": {
     "name": "#%%\n"
    }
   }
  }
 ],
 "metadata": {
  "kernelspec": {
   "display_name": "Python 3",
   "language": "python",
   "name": "python3"
  },
  "language_info": {
   "codemirror_mode": {
    "name": "ipython",
    "version": 2
   },
   "file_extension": ".py",
   "mimetype": "text/x-python",
   "name": "python",
   "nbconvert_exporter": "python",
   "pygments_lexer": "ipython2",
   "version": "2.7.6"
  }
 },
 "nbformat": 4,
 "nbformat_minor": 0
}